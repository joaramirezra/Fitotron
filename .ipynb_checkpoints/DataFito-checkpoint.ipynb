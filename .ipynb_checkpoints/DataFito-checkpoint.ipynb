{
 "cells": [
  {
   "cell_type": "code",
   "execution_count": 1,
   "metadata": {},
   "outputs": [],
   "source": [
    "#Fecha : 24/03/2021"
   ]
  },
  {
   "cell_type": "markdown",
   "metadata": {},
   "source": [
    "import resquest"
   ]
  },
  {
   "cell_type": "code",
   "execution_count": 7,
   "metadata": {},
   "outputs": [
    {
     "data": {
      "text/plain": [
       "['__attrs__',\n",
       " '__bool__',\n",
       " '__class__',\n",
       " '__delattr__',\n",
       " '__dict__',\n",
       " '__dir__',\n",
       " '__doc__',\n",
       " '__enter__',\n",
       " '__eq__',\n",
       " '__exit__',\n",
       " '__format__',\n",
       " '__ge__',\n",
       " '__getattribute__',\n",
       " '__getstate__',\n",
       " '__gt__',\n",
       " '__hash__',\n",
       " '__init__',\n",
       " '__init_subclass__',\n",
       " '__iter__',\n",
       " '__le__',\n",
       " '__lt__',\n",
       " '__module__',\n",
       " '__ne__',\n",
       " '__new__',\n",
       " '__nonzero__',\n",
       " '__reduce__',\n",
       " '__reduce_ex__',\n",
       " '__repr__',\n",
       " '__setattr__',\n",
       " '__setstate__',\n",
       " '__sizeof__',\n",
       " '__str__',\n",
       " '__subclasshook__',\n",
       " '__weakref__',\n",
       " '_content',\n",
       " '_content_consumed',\n",
       " '_next',\n",
       " 'apparent_encoding',\n",
       " 'close',\n",
       " 'connection',\n",
       " 'content',\n",
       " 'cookies',\n",
       " 'elapsed',\n",
       " 'encoding',\n",
       " 'headers',\n",
       " 'history',\n",
       " 'is_permanent_redirect',\n",
       " 'is_redirect',\n",
       " 'iter_content',\n",
       " 'iter_lines',\n",
       " 'json',\n",
       " 'links',\n",
       " 'next',\n",
       " 'ok',\n",
       " 'raise_for_status',\n",
       " 'raw',\n",
       " 'reason',\n",
       " 'request',\n",
       " 'status_code',\n",
       " 'text',\n",
       " 'url']"
      ]
     },
     "execution_count": 7,
     "metadata": {},
     "output_type": "execute_result"
    }
   ],
   "source": [
    "import requests\n",
    "response = requests.get('https://medium.com')\n",
    "dir(response)"
   ]
  },
  {
   "cell_type": "code",
   "execution_count": 10,
   "metadata": {},
   "outputs": [
    {
     "data": {
      "text/plain": [
       "{'Date': 'Thu, 26 Mar 2020 16:21:41 GMT', 'Content-Type': 'text/html; charset=utf-8', 'Transfer-Encoding': 'chunked', 'Connection': 'keep-alive', 'Set-Cookie': '__cfduid=db39da8be9fc6e1d079d13647ed6bb7c81585239700; expires=Sat, 25-Apr-20 16:21:40 GMT; path=/; domain=.medium.com; HttpOnly; SameSite=Lax, uid=lo_MZbsGmEhLSDZ; Expires=Fri, 26-Mar-21 16:21:40 GMT; Domain=.medium.com; Path=/; Secure; HttpOnly, sid=1:dIOLfSE9RKGdQOHDx8BaKfjRnbTngUEN1vJxSVss97Qq6hIAi5zKoIrQ1W2fzlmZ; path=/; expires=Fri, 26 Mar 2021 16:21:40 GMT; domain=.medium.com; samesite=none; secure; httponly, optimizelyEndUserId=lo_MZbsGmEhLSDZ; path=/; expires=Fri, 26 Mar 2021 16:21:40 GMT; domain=.medium.com; samesite=none; secure, __cfruid=e300709d2b4c8db750a96ec8855991fa2671a0a6-1585239701; path=/; domain=.medium.com; HttpOnly; Secure; SameSite=None', 'Sepia-Upstream': 'production', 'x-frame-options': 'allow-from medium.com', 'cache-control': 'no-cache, no-store, max-age=0, must-revalidate', 'medium-fulfilled-by': 'lite/master-20200325-195611-72d3042672, rito/master-20200326-001305-7b23ffe6cb', 'etag': 'W/\"19b63-cKOK9sg88MvwKpKDyP0pImdB6C4\"', 'vary': 'Accept-Encoding', 'content-encoding': 'gzip', 'x-envoy-upstream-service-time': '187', 'Strict-Transport-Security': 'max-age=15552000; includeSubDomains; preload', 'CF-Cache-Status': 'DYNAMIC', 'Expect-CT': 'max-age=604800, report-uri=\"https://report-uri.cloudflare.com/cdn-cgi/beacon/expect-ct\"', 'X-Content-Type-Options': 'nosniff', 'Server': 'cloudflare', 'CF-RAY': '57a234c16865e5c0-BOG', 'alt-svc': 'h3-27=\":443\"; ma=86400, h3-25=\":443\"; ma=86400, h3-24=\":443\"; ma=86400, h3-23=\":443\"; ma=86400'}"
      ]
     },
     "execution_count": 10,
     "metadata": {},
     "output_type": "execute_result"
    }
   ],
   "source": [
    "response.headers"
   ]
  },
  {
   "cell_type": "code",
   "execution_count": null,
   "metadata": {},
   "outputs": [],
   "source": []
  }
 ],
 "metadata": {
  "kernelspec": {
   "display_name": "Python 3",
   "language": "python",
   "name": "python3"
  },
  "language_info": {
   "codemirror_mode": {
    "name": "ipython",
    "version": 3
   },
   "file_extension": ".py",
   "mimetype": "text/x-python",
   "name": "python",
   "nbconvert_exporter": "python",
   "pygments_lexer": "ipython3",
   "version": "3.6.9"
  }
 },
 "nbformat": 4,
 "nbformat_minor": 4
}
